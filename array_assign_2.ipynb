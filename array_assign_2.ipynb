{
  "metadata": {
    "language_info": {
      "codemirror_mode": {
        "name": "python",
        "version": 3
      },
      "file_extension": ".py",
      "mimetype": "text/x-python",
      "name": "python",
      "nbconvert_exporter": "python",
      "pygments_lexer": "ipython3",
      "version": "3.8"
    },
    "kernelspec": {
      "name": "python",
      "display_name": "Python (Pyodide)",
      "language": "python"
    }
  },
  "nbformat_minor": 4,
  "nbformat": 4,
  "cells": [
    {
      "cell_type": "code",
      "source": "1:\nTo maximize the sum of the minimum elements in each pair from an integer array nums, we can\nsort the array and then pair up adjacent elements. Since the array is sorted, the minimum element\nof each pair will always be the smaller element of the pair. Therefore, to maximize the sum, we need \nto pair up the adjacent elements.    ",
      "metadata": {},
      "execution_count": null,
      "outputs": []
    },
    {
      "cell_type": "code",
      "source": "def arrayPairSum(nums):\n    nums.sort()\n    max_sum = 0\n\n    for i in range(0, len(nums), 2):\n        max_sum += nums[i]\n\n    return max_sum\n\n# Test the function\nnums = [1, 4, 3, 2]\nresult = arrayPairSum(nums)\nprint(\"Output:\", result)\n",
      "metadata": {
        "trusted": true
      },
      "execution_count": 1,
      "outputs": [
        {
          "name": "stdout",
          "text": "Output: 4\n",
          "output_type": "stream"
        }
      ]
    },
    {
      "cell_type": "code",
      "source": "",
      "metadata": {},
      "execution_count": null,
      "outputs": []
    },
    {
      "cell_type": "code",
      "source": "2:\nTo determine the maximum number of different types of candies Alice can eat while following  \nthe doctors advice, we need to find the number of unique candy types in the array candyType and\ncompare it with the limit n / 2.    ",
      "metadata": {},
      "execution_count": null,
      "outputs": []
    },
    {
      "cell_type": "code",
      "source": "def distributeCandies(candyType):\n    unique_types = len(set(candyType))\n    max_types = len(candyType) // 2\n\n    return min(unique_types, max_types)\n\n# Test the function\ncandyType = [1, 1, 2, 2, 3, 3]\nresult = distributeCandies(candyType)\nprint(\"Output:\", result)\n",
      "metadata": {
        "trusted": true
      },
      "execution_count": 2,
      "outputs": [
        {
          "name": "stdout",
          "text": "Output: 3\n",
          "output_type": "stream"
        }
      ]
    },
    {
      "cell_type": "code",
      "source": "In this solution, I use the set data structure to get the unique candy types in the candyType array.\nBy converting candyType to a set, duplicate elements are automatically removed, leaving only the unique types.\nI calculate the length of this set and store it in the unique_types variable.\n\nTo determine the maximum number of candies Alice can eat, I divide the length of the candyType array by 2 and\nstore it in the max_types variable.\n\nFinally, I return the minimum value between unique_types and max_types. This ensures that if the number of unique types \nis smaller than the maximum allowed number of candies, Alice can only eat the unique types. If the number of unique types\nis greater than or equal to the maximum allowed number of candies, Alice can eat the maximum allowed number of different types.\n\n",
      "metadata": {},
      "execution_count": null,
      "outputs": []
    },
    {
      "cell_type": "code",
      "source": "",
      "metadata": {},
      "execution_count": null,
      "outputs": []
    },
    {
      "cell_type": "code",
      "source": "3:\nTo find the length of the longest harmonious subsequence in an integer array nums, we can iterate through the array and count\nthe frequencies of each number. For each number num, we check if both num+1 and num-1 exist in the frequency map. If they do,\nwe update the maximum length of the harmonious subsequence accordingly.    ",
      "metadata": {},
      "execution_count": null,
      "outputs": []
    },
    {
      "cell_type": "code",
      "source": "from collections import Counter\n\ndef findLHS(nums):\n    num_freq = Counter(nums)\n    max_length = 0\n\n    for num in num_freq:\n        if num + 1 in num_freq:\n            length = num_freq[num] + num_freq[num + 1]\n            max_length = max(max_length, length)\n\n    return max_length\n\n# Test the function\nnums = [1, 3, 2, 2, 5, 2, 3, 7]\nresult = findLHS(nums)\nprint(\"Output:\", result)\n",
      "metadata": {
        "trusted": true
      },
      "execution_count": 3,
      "outputs": [
        {
          "name": "stdout",
          "text": "Output: 5\n",
          "output_type": "stream"
        }
      ]
    },
    {
      "cell_type": "code",
      "source": "",
      "metadata": {},
      "execution_count": null,
      "outputs": []
    },
    {
      "cell_type": "code",
      "source": "4:\n  To determine if n new flowers can be planted in the flowerbed without violating the no-adjacent-flowers rule,\nwe can iterate through the flowerbed and check if each plot and its adjacent plots are empty (0). If we find a\nsuitable location, we decrement n and mark the plot as planted (1). We also need to handle the special cases of \nthe first and last plots.  ",
      "metadata": {},
      "execution_count": null,
      "outputs": []
    },
    {
      "cell_type": "code",
      "source": "def canPlaceFlowers(flowerbed, n):\n    size = len(flowerbed)\n    count = 0\n    i = 0\n\n    while i < size:\n        if flowerbed[i] == 0 and (i == 0 or flowerbed[i-1] == 0) and (i == size-1 or flowerbed[i+1] == 0):\n            flowerbed[i] = 1\n            count += 1\n        i += 1\n\n    return count >= n\n\n# Test the function\nflowerbed = [1, 0, 0, 0, 1]\nn = 1\nresult = canPlaceFlowers(flowerbed, n)\nprint(\"Output:\", result)\n",
      "metadata": {
        "trusted": true
      },
      "execution_count": 4,
      "outputs": [
        {
          "name": "stdout",
          "text": "Output: True\n",
          "output_type": "stream"
        }
      ]
    },
    {
      "cell_type": "code",
      "source": "",
      "metadata": {},
      "execution_count": null,
      "outputs": []
    },
    {
      "cell_type": "code",
      "source": "5:\nTo find three numbers in the given integer array nums whose product is maximum, we can sort the array in \nnon-decreasing order. The maximum product will then be either the product of the three largest elements \n(if they are positive) or the product of the two smallest negative elements and the largest positive element.    ",
      "metadata": {},
      "execution_count": null,
      "outputs": []
    },
    {
      "cell_type": "code",
      "source": "def maximumProduct(nums):\n    nums.sort()\n    n = len(nums)\n\n    # Case 1: Three largest elements\n    max_product = max(nums[n-1] * nums[n-2] * nums[n-3], nums[0] * nums[1] * nums[n-1])\n\n    return max_product\n\n# Test the function\nnums = [1, 2, 3]\nresult = maximumProduct(nums)\nprint(\"Output:\", result)\n",
      "metadata": {
        "trusted": true
      },
      "execution_count": 5,
      "outputs": [
        {
          "name": "stdout",
          "text": "Output: 6\n",
          "output_type": "stream"
        }
      ]
    },
    {
      "cell_type": "code",
      "source": "In this solution, I have first sort the nums array in non-decreasing order using the sort() method.\n\nI initialize n to store the length of the sorted array.\n\nTo find the maximum product, compare two cases:\n\nCase 1: The product of the three largest elements: nums[n-1] * nums[n-2] * nums[n-3]\nCase 2: The product of the two smallest negative elements and the largest positive element: nums[0] * nums[1] * nums[n-1]\n\nWe take the maximum of these two cases and assign it to max_product.\n\nFinally, we return max_product, which represents the maximum product of three numbers in the nums array.\n\n\n\n\n",
      "metadata": {},
      "execution_count": null,
      "outputs": []
    },
    {
      "cell_type": "code",
      "source": "",
      "metadata": {},
      "execution_count": null,
      "outputs": []
    },
    {
      "cell_type": "code",
      "source": "6:\n  To search for the target value in the sorted array nums and return its index, we can use the\nbinary search algorithm. Since the array is sorted in ascending order, binary search can be performed\nwith O(log n) runtime complexity.  ",
      "metadata": {},
      "execution_count": null,
      "outputs": []
    },
    {
      "cell_type": "code",
      "source": "def search(nums, target):\n    left = 0\n    right = len(nums) - 1\n\n    while left <= right:\n        mid = left + (right - left) // 2\n\n        if nums[mid] == target:\n            return mid\n        elif nums[mid] < target:\n            left = mid + 1\n        else:\n            right = mid - 1\n\n    return -1\n\n# Test the function\nnums = [-1, 0, 3, 5, 9, 12]\ntarget = 9\nresult = search(nums, target)\nprint(\"Output:\", result)\n",
      "metadata": {
        "trusted": true
      },
      "execution_count": 6,
      "outputs": [
        {
          "name": "stdout",
          "text": "Output: 4\n",
          "output_type": "stream"
        }
      ]
    },
    {
      "cell_type": "code",
      "source": "",
      "metadata": {},
      "execution_count": null,
      "outputs": []
    },
    {
      "cell_type": "code",
      "source": "7:\n To determine if an array nums is monotonic, we can iterate through the array and check if it\nis either strictly increasing or strictly decreasing. If we find any violation of this pattern,\nwe can conclude that the array is not monotonic.   ",
      "metadata": {},
      "execution_count": null,
      "outputs": []
    },
    {
      "cell_type": "code",
      "source": "def isMonotonic(nums):\n    increasing = decreasing = True\n\n    for i in range(1, len(nums)):\n        if nums[i] < nums[i-1]:\n            increasing = False\n        if nums[i] > nums[i-1]:\n            decreasing = False\n\n    return increasing or decreasing\n\n# Test the function\nnums = [1, 2, 2, 3]\nresult = isMonotonic(nums)\nprint(\"Output:\", result)\n",
      "metadata": {
        "trusted": true
      },
      "execution_count": 7,
      "outputs": [
        {
          "name": "stdout",
          "text": "Output: True\n",
          "output_type": "stream"
        }
      ]
    },
    {
      "cell_type": "code",
      "source": "",
      "metadata": {},
      "execution_count": null,
      "outputs": []
    },
    {
      "cell_type": "code",
      "source": "8:\nTo minimize the score of the array nums after applying the operation at most once for each index,\nwe need to make the difference between the maximum and minimum elements as small as possible.\n\nHere's the approach to solve this problem:\n\n1.Find the initial maximum and minimum values in the array nums.\n2.Calculate the initial score as max(nums) - min(nums).\n3.If the difference between the maximum and minimum values is already less than or equal to 2 * k, return the current score, as we cannot make it smaller.\n4.Otherwise, we can reduce the difference by adding k to the minimum value and subtracting k from the maximum value.\n5.After adjusting the values, calculate the new score as max(nums) - min(nums) and return it.    ",
      "metadata": {},
      "execution_count": null,
      "outputs": []
    },
    {
      "cell_type": "code",
      "source": "def minScore(nums, k):\n    minimum = min(nums)\n    maximum = max(nums)\n    score = maximum - minimum\n\n    if score <= 2 * k:\n        return score\n\n    return score - 2 * k\n\n# Test the function\nnums = [1]\nk = 0\nresult = minScore(nums, k)\nprint(\"Output:\", result)\n",
      "metadata": {
        "trusted": true
      },
      "execution_count": 8,
      "outputs": [
        {
          "name": "stdout",
          "text": "Output: 0\n",
          "output_type": "stream"
        }
      ]
    },
    {
      "cell_type": "code",
      "source": "In this solution, I first find the minimum and maximum values in the array using the min() and max() functions,\nrespectively. Then, I calculate the initial score as the difference between the maximum and minimum values.\n\nIf the initial score is already less than or equal to 2 * k, it means we cannot reduce it further by applying the operation.\nIn that case, we return the current score.\n\nOtherwise, we can reduce the difference by adding k to the minimum value and subtracting k from the maximum value.\nThis adjustment decreases the difference between the maximum and minimum values by 2 * k. After adjusting the values,\nI calculate the new score and return it as the minimum score achievable after applying the operation.\n\n",
      "metadata": {},
      "execution_count": null,
      "outputs": []
    },
    {
      "cell_type": "code",
      "source": "",
      "metadata": {},
      "execution_count": null,
      "outputs": []
    },
    {
      "cell_type": "code",
      "source": "",
      "metadata": {},
      "execution_count": null,
      "outputs": []
    }
  ]
}